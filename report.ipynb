{
 "cells": [
  {
   "cell_type": "markdown",
   "id": "8fcaa4f1",
   "metadata": {},
   "source": [
    "## Classification Modeling: analyzing customer churn within Telco\n",
    "### Goals\n",
    "\n",
    "My main goal for this project is to construct a classification model that effectively predicts customer churn for Telco. I will be identifying which variables are the main drivers of churn, excluding contract type. \n",
    "\n",
    "I will be acquiring the data, cleaning and prepping it, give my predicitions and finally, my report and recommendations."
   ]
  },
  {
   "cell_type": "markdown",
   "id": "f528b417",
   "metadata": {},
   "source": [
    "### Prepare Environment"
   ]
  },
  {
   "cell_type": "code",
   "execution_count": 1,
   "id": "d95a257c",
   "metadata": {},
   "outputs": [],
   "source": [
    "# Overall Libraries\n",
    "import numpy as np\n",
    "import pandas as pd\n",
    "import matplotlib.pyplot as plt\n",
    "import seaborn as sns\n",
    "from scipy import stats\n",
    "from pydataset import data\n",
    "\n",
    "# Machine learning libraries\n",
    "from sklearn.linear_model import LogisticRegression\n",
    "from sklearn.tree import DecisionTreeClassifier, plot_tree\n",
    "from sklearn.metrics import classification_report, confusion_matrix, accuracy_score, recall_score\n",
    "from sklearn.ensemble import RandomForestClassifier\n",
    "from sklearn.neighbors import KNeighborsClassifier\n",
    "\n",
    "# Get and scrub the data\n",
    "import acquire, prepare\n",
    "\n",
    "# Ignore warning\n",
    "import warnings\n",
    "warnings.filterwarnings(\"ignore\")\n",
    "\n",
    "# Save and load machine learning models\n",
    "#import pickle, joblib\n",
    "\n",
    "# Set plotting paras\n",
    "plt.style.use('seaborn-talk')"
   ]
  },
  {
   "cell_type": "markdown",
   "id": "d395cd84",
   "metadata": {},
   "source": [
    "### Data Acquisition"
   ]
  },
  {
   "cell_type": "code",
   "execution_count": 2,
   "id": "e7a4ce6f",
   "metadata": {},
   "outputs": [
    {
     "name": "stdout",
     "output_type": "stream",
     "text": [
      "Number of (rows, columns):  (7043, 24)\n"
     ]
    },
    {
     "data": {
      "text/html": [
       "<div>\n",
       "<style scoped>\n",
       "    .dataframe tbody tr th:only-of-type {\n",
       "        vertical-align: middle;\n",
       "    }\n",
       "\n",
       "    .dataframe tbody tr th {\n",
       "        vertical-align: top;\n",
       "    }\n",
       "\n",
       "    .dataframe thead th {\n",
       "        text-align: right;\n",
       "    }\n",
       "</style>\n",
       "<table border=\"1\" class=\"dataframe\">\n",
       "  <thead>\n",
       "    <tr style=\"text-align: right;\">\n",
       "      <th></th>\n",
       "      <th>payment_type_id</th>\n",
       "      <th>internet_service_type_id</th>\n",
       "      <th>contract_type_id</th>\n",
       "      <th>customer_id</th>\n",
       "      <th>gender</th>\n",
       "      <th>senior_citizen</th>\n",
       "      <th>partner</th>\n",
       "      <th>dependents</th>\n",
       "      <th>tenure</th>\n",
       "      <th>phone_service</th>\n",
       "      <th>...</th>\n",
       "      <th>tech_support</th>\n",
       "      <th>streaming_tv</th>\n",
       "      <th>streaming_movies</th>\n",
       "      <th>paperless_billing</th>\n",
       "      <th>monthly_charges</th>\n",
       "      <th>total_charges</th>\n",
       "      <th>churn</th>\n",
       "      <th>contract_type</th>\n",
       "      <th>internet_service_type</th>\n",
       "      <th>payment_type</th>\n",
       "    </tr>\n",
       "  </thead>\n",
       "  <tbody>\n",
       "    <tr>\n",
       "      <th>0</th>\n",
       "      <td>2</td>\n",
       "      <td>1</td>\n",
       "      <td>2</td>\n",
       "      <td>0002-ORFBO</td>\n",
       "      <td>Female</td>\n",
       "      <td>0</td>\n",
       "      <td>Yes</td>\n",
       "      <td>Yes</td>\n",
       "      <td>9</td>\n",
       "      <td>Yes</td>\n",
       "      <td>...</td>\n",
       "      <td>Yes</td>\n",
       "      <td>Yes</td>\n",
       "      <td>No</td>\n",
       "      <td>Yes</td>\n",
       "      <td>65.6</td>\n",
       "      <td>593.3</td>\n",
       "      <td>No</td>\n",
       "      <td>One year</td>\n",
       "      <td>DSL</td>\n",
       "      <td>Mailed check</td>\n",
       "    </tr>\n",
       "    <tr>\n",
       "      <th>1</th>\n",
       "      <td>2</td>\n",
       "      <td>1</td>\n",
       "      <td>1</td>\n",
       "      <td>0003-MKNFE</td>\n",
       "      <td>Male</td>\n",
       "      <td>0</td>\n",
       "      <td>No</td>\n",
       "      <td>No</td>\n",
       "      <td>9</td>\n",
       "      <td>Yes</td>\n",
       "      <td>...</td>\n",
       "      <td>No</td>\n",
       "      <td>No</td>\n",
       "      <td>Yes</td>\n",
       "      <td>No</td>\n",
       "      <td>59.9</td>\n",
       "      <td>542.4</td>\n",
       "      <td>No</td>\n",
       "      <td>Month-to-month</td>\n",
       "      <td>DSL</td>\n",
       "      <td>Mailed check</td>\n",
       "    </tr>\n",
       "    <tr>\n",
       "      <th>2</th>\n",
       "      <td>1</td>\n",
       "      <td>2</td>\n",
       "      <td>1</td>\n",
       "      <td>0004-TLHLJ</td>\n",
       "      <td>Male</td>\n",
       "      <td>0</td>\n",
       "      <td>No</td>\n",
       "      <td>No</td>\n",
       "      <td>4</td>\n",
       "      <td>Yes</td>\n",
       "      <td>...</td>\n",
       "      <td>No</td>\n",
       "      <td>No</td>\n",
       "      <td>No</td>\n",
       "      <td>Yes</td>\n",
       "      <td>73.9</td>\n",
       "      <td>280.85</td>\n",
       "      <td>Yes</td>\n",
       "      <td>Month-to-month</td>\n",
       "      <td>Fiber optic</td>\n",
       "      <td>Electronic check</td>\n",
       "    </tr>\n",
       "    <tr>\n",
       "      <th>3</th>\n",
       "      <td>1</td>\n",
       "      <td>2</td>\n",
       "      <td>1</td>\n",
       "      <td>0011-IGKFF</td>\n",
       "      <td>Male</td>\n",
       "      <td>1</td>\n",
       "      <td>Yes</td>\n",
       "      <td>No</td>\n",
       "      <td>13</td>\n",
       "      <td>Yes</td>\n",
       "      <td>...</td>\n",
       "      <td>No</td>\n",
       "      <td>Yes</td>\n",
       "      <td>Yes</td>\n",
       "      <td>Yes</td>\n",
       "      <td>98.0</td>\n",
       "      <td>1237.85</td>\n",
       "      <td>Yes</td>\n",
       "      <td>Month-to-month</td>\n",
       "      <td>Fiber optic</td>\n",
       "      <td>Electronic check</td>\n",
       "    </tr>\n",
       "    <tr>\n",
       "      <th>4</th>\n",
       "      <td>2</td>\n",
       "      <td>2</td>\n",
       "      <td>1</td>\n",
       "      <td>0013-EXCHZ</td>\n",
       "      <td>Female</td>\n",
       "      <td>1</td>\n",
       "      <td>Yes</td>\n",
       "      <td>No</td>\n",
       "      <td>3</td>\n",
       "      <td>Yes</td>\n",
       "      <td>...</td>\n",
       "      <td>Yes</td>\n",
       "      <td>Yes</td>\n",
       "      <td>No</td>\n",
       "      <td>Yes</td>\n",
       "      <td>83.9</td>\n",
       "      <td>267.4</td>\n",
       "      <td>Yes</td>\n",
       "      <td>Month-to-month</td>\n",
       "      <td>Fiber optic</td>\n",
       "      <td>Mailed check</td>\n",
       "    </tr>\n",
       "  </tbody>\n",
       "</table>\n",
       "<p>5 rows × 24 columns</p>\n",
       "</div>"
      ],
      "text/plain": [
       "   payment_type_id  internet_service_type_id  contract_type_id customer_id  \\\n",
       "0                2                         1                 2  0002-ORFBO   \n",
       "1                2                         1                 1  0003-MKNFE   \n",
       "2                1                         2                 1  0004-TLHLJ   \n",
       "3                1                         2                 1  0011-IGKFF   \n",
       "4                2                         2                 1  0013-EXCHZ   \n",
       "\n",
       "   gender  senior_citizen partner dependents  tenure phone_service  ...  \\\n",
       "0  Female               0     Yes        Yes       9           Yes  ...   \n",
       "1    Male               0      No         No       9           Yes  ...   \n",
       "2    Male               0      No         No       4           Yes  ...   \n",
       "3    Male               1     Yes         No      13           Yes  ...   \n",
       "4  Female               1     Yes         No       3           Yes  ...   \n",
       "\n",
       "  tech_support streaming_tv streaming_movies paperless_billing  \\\n",
       "0          Yes          Yes               No               Yes   \n",
       "1           No           No              Yes                No   \n",
       "2           No           No               No               Yes   \n",
       "3           No          Yes              Yes               Yes   \n",
       "4          Yes          Yes               No               Yes   \n",
       "\n",
       "  monthly_charges total_charges churn   contract_type  internet_service_type  \\\n",
       "0            65.6         593.3    No        One year                    DSL   \n",
       "1            59.9         542.4    No  Month-to-month                    DSL   \n",
       "2            73.9        280.85   Yes  Month-to-month            Fiber optic   \n",
       "3            98.0       1237.85   Yes  Month-to-month            Fiber optic   \n",
       "4            83.9         267.4   Yes  Month-to-month            Fiber optic   \n",
       "\n",
       "       payment_type  \n",
       "0      Mailed check  \n",
       "1      Mailed check  \n",
       "2  Electronic check  \n",
       "3  Electronic check  \n",
       "4      Mailed check  \n",
       "\n",
       "[5 rows x 24 columns]"
      ]
     },
     "execution_count": 2,
     "metadata": {},
     "output_type": "execute_result"
    }
   ],
   "source": [
    "# Load dataset into pandas dataframe\n",
    "\n",
    "df = acquire.get_telco_data()\n",
    "print(\"Number of (rows, columns): \", df.shape)\n",
    "df.head()"
   ]
  },
  {
   "cell_type": "markdown",
   "id": "1b3a1cbe",
   "metadata": {},
   "source": [
    "### Data Preparation"
   ]
  },
  {
   "cell_type": "code",
   "execution_count": 3,
   "id": "1ea5bba1",
   "metadata": {},
   "outputs": [
    {
     "name": "stdout",
     "output_type": "stream",
     "text": [
      "<class 'pandas.core.frame.DataFrame'>\n",
      "Int64Index: 7043 entries, 0 to 7042\n",
      "Data columns (total 24 columns):\n",
      " #   Column                    Non-Null Count  Dtype  \n",
      "---  ------                    --------------  -----  \n",
      " 0   payment_type_id           7043 non-null   int64  \n",
      " 1   internet_service_type_id  7043 non-null   int64  \n",
      " 2   contract_type_id          7043 non-null   int64  \n",
      " 3   customer_id               7043 non-null   object \n",
      " 4   gender                    7043 non-null   object \n",
      " 5   senior_citizen            7043 non-null   int64  \n",
      " 6   partner                   7043 non-null   object \n",
      " 7   dependents                7043 non-null   object \n",
      " 8   tenure                    7043 non-null   int64  \n",
      " 9   phone_service             7043 non-null   object \n",
      " 10  multiple_lines            7043 non-null   object \n",
      " 11  online_security           7043 non-null   object \n",
      " 12  online_backup             7043 non-null   object \n",
      " 13  device_protection         7043 non-null   object \n",
      " 14  tech_support              7043 non-null   object \n",
      " 15  streaming_tv              7043 non-null   object \n",
      " 16  streaming_movies          7043 non-null   object \n",
      " 17  paperless_billing         7043 non-null   object \n",
      " 18  monthly_charges           7043 non-null   float64\n",
      " 19  total_charges             7043 non-null   object \n",
      " 20  churn                     7043 non-null   object \n",
      " 21  contract_type             7043 non-null   object \n",
      " 22  internet_service_type     7043 non-null   object \n",
      " 23  payment_type              7043 non-null   object \n",
      "dtypes: float64(1), int64(5), object(18)\n",
      "memory usage: 1.3+ MB\n"
     ]
    }
   ],
   "source": [
    "# Print the summary of the dataset\n",
    "df.info()"
   ]
  },
  {
   "cell_type": "code",
   "execution_count": 4,
   "id": "c115a3bf",
   "metadata": {},
   "outputs": [],
   "source": [
    "# Replace the white space with 0 in column total_charges\n",
    "df['total_charges'] = df.total_charges.apply(lambda i: \"0\" if i == \" \" else i)"
   ]
  },
  {
   "cell_type": "code",
   "execution_count": 5,
   "id": "5a00842b",
   "metadata": {},
   "outputs": [
    {
     "data": {
      "text/plain": [
       "payment_type_id               int64\n",
       "internet_service_type_id      int64\n",
       "contract_type_id              int64\n",
       "customer_id                  object\n",
       "gender                       object\n",
       "senior_citizen                int64\n",
       "partner                      object\n",
       "dependents                   object\n",
       "tenure                        int64\n",
       "phone_service                object\n",
       "multiple_lines               object\n",
       "online_security              object\n",
       "online_backup                object\n",
       "device_protection            object\n",
       "tech_support                 object\n",
       "streaming_tv                 object\n",
       "streaming_movies             object\n",
       "paperless_billing            object\n",
       "monthly_charges             float64\n",
       "total_charges               float64\n",
       "churn                        object\n",
       "contract_type                object\n",
       "internet_service_type        object\n",
       "payment_type                 object\n",
       "dtype: object"
      ]
     },
     "execution_count": 5,
     "metadata": {},
     "output_type": "execute_result"
    }
   ],
   "source": [
    "# Correct the data types of column total_charges \n",
    "\n",
    "datatype = {'total_charges': 'float64'}\n",
    "df = df.astype(dtype=datatype)\n",
    "\n",
    "df.dtypes"
   ]
  },
  {
   "cell_type": "code",
   "execution_count": 6,
   "id": "fc3ce98b",
   "metadata": {},
   "outputs": [
    {
     "data": {
      "text/plain": [
       "payment_type_id             0\n",
       "internet_service_type_id    0\n",
       "contract_type_id            0\n",
       "customer_id                 0\n",
       "gender                      0\n",
       "senior_citizen              0\n",
       "partner                     0\n",
       "dependents                  0\n",
       "tenure                      0\n",
       "phone_service               0\n",
       "multiple_lines              0\n",
       "online_security             0\n",
       "online_backup               0\n",
       "device_protection           0\n",
       "tech_support                0\n",
       "streaming_tv                0\n",
       "streaming_movies            0\n",
       "paperless_billing           0\n",
       "monthly_charges             0\n",
       "total_charges               0\n",
       "churn                       0\n",
       "contract_type               0\n",
       "internet_service_type       0\n",
       "payment_type                0\n",
       "dtype: int64"
      ]
     },
     "execution_count": 6,
     "metadata": {},
     "output_type": "execute_result"
    }
   ],
   "source": [
    "# Calculate the number of missing values in each column\n",
    "df.isnull().sum()"
   ]
  },
  {
   "cell_type": "code",
   "execution_count": 8,
   "id": "6fa42d12",
   "metadata": {},
   "outputs": [
    {
     "data": {
      "text/plain": [
       "payment_type_id                4\n",
       "internet_service_type_id       3\n",
       "contract_type_id               3\n",
       "customer_id                 7043\n",
       "gender                         2\n",
       "senior_citizen                 2\n",
       "partner                        2\n",
       "dependents                     2\n",
       "tenure                        73\n",
       "phone_service                  2\n",
       "multiple_lines                 3\n",
       "online_security                3\n",
       "online_backup                  3\n",
       "device_protection              3\n",
       "tech_support                   3\n",
       "streaming_tv                   3\n",
       "streaming_movies               3\n",
       "paperless_billing              2\n",
       "monthly_charges             1585\n",
       "total_charges               6531\n",
       "churn                          2\n",
       "contract_type                  3\n",
       "internet_service_type          3\n",
       "payment_type                   4\n",
       "dtype: int64"
      ]
     },
     "execution_count": 8,
     "metadata": {},
     "output_type": "execute_result"
    }
   ],
   "source": [
    "# Count distinct observations in each column\n",
    "df.nunique()"
   ]
  },
  {
   "cell_type": "code",
   "execution_count": 7,
   "id": "430e4410",
   "metadata": {},
   "outputs": [
    {
     "data": {
      "text/plain": [
       "(7043, 24)"
      ]
     },
     "execution_count": 7,
     "metadata": {},
     "output_type": "execute_result"
    }
   ],
   "source": [
    "# Drop them duplicates\n",
    "df = df.drop_duplicates()\n",
    "df.shape"
   ]
  },
  {
   "cell_type": "code",
   "execution_count": 71,
   "id": "71cfe866",
   "metadata": {},
   "outputs": [
    {
     "data": {
      "text/html": [
       "<div>\n",
       "<style scoped>\n",
       "    .dataframe tbody tr th:only-of-type {\n",
       "        vertical-align: middle;\n",
       "    }\n",
       "\n",
       "    .dataframe tbody tr th {\n",
       "        vertical-align: top;\n",
       "    }\n",
       "\n",
       "    .dataframe thead th {\n",
       "        text-align: right;\n",
       "    }\n",
       "</style>\n",
       "<table border=\"1\" class=\"dataframe\">\n",
       "  <thead>\n",
       "    <tr style=\"text-align: right;\">\n",
       "      <th></th>\n",
       "      <th>internet_service_type</th>\n",
       "    </tr>\n",
       "  </thead>\n",
       "  <tbody>\n",
       "    <tr>\n",
       "      <th>0</th>\n",
       "      <td>1</td>\n",
       "    </tr>\n",
       "    <tr>\n",
       "      <th>1</th>\n",
       "      <td>1</td>\n",
       "    </tr>\n",
       "    <tr>\n",
       "      <th>2</th>\n",
       "      <td>1</td>\n",
       "    </tr>\n",
       "    <tr>\n",
       "      <th>3</th>\n",
       "      <td>1</td>\n",
       "    </tr>\n",
       "    <tr>\n",
       "      <th>4</th>\n",
       "      <td>1</td>\n",
       "    </tr>\n",
       "  </tbody>\n",
       "</table>\n",
       "</div>"
      ],
      "text/plain": [
       "   internet_service_type\n",
       "0                      1\n",
       "1                      1\n",
       "2                      1\n",
       "3                      1\n",
       "4                      1"
      ]
     },
     "execution_count": 71,
     "metadata": {},
     "output_type": "execute_result"
    }
   ],
   "source": [
    "dummy_df = pd.get_dummies(df[['internet_service_type']], dummy_na=False, drop_first=[True, True])\n",
    "dummy_df.head()\n"
   ]
  },
  {
   "cell_type": "code",
   "execution_count": 9,
   "id": "0b5d4836",
   "metadata": {},
   "outputs": [
    {
     "data": {
      "text/html": [
       "<div>\n",
       "<style scoped>\n",
       "    .dataframe tbody tr th:only-of-type {\n",
       "        vertical-align: middle;\n",
       "    }\n",
       "\n",
       "    .dataframe tbody tr th {\n",
       "        vertical-align: top;\n",
       "    }\n",
       "\n",
       "    .dataframe thead th {\n",
       "        text-align: right;\n",
       "    }\n",
       "</style>\n",
       "<table border=\"1\" class=\"dataframe\">\n",
       "  <thead>\n",
       "    <tr style=\"text-align: right;\">\n",
       "      <th></th>\n",
       "      <th>count</th>\n",
       "      <th>mean</th>\n",
       "      <th>std</th>\n",
       "      <th>min</th>\n",
       "      <th>25%</th>\n",
       "      <th>50%</th>\n",
       "      <th>75%</th>\n",
       "      <th>max</th>\n",
       "    </tr>\n",
       "  </thead>\n",
       "  <tbody>\n",
       "    <tr>\n",
       "      <th>payment_type_id</th>\n",
       "      <td>7043.0</td>\n",
       "      <td>2.315633</td>\n",
       "      <td>1.148907</td>\n",
       "      <td>1.00</td>\n",
       "      <td>1.00</td>\n",
       "      <td>2.00</td>\n",
       "      <td>3.00</td>\n",
       "      <td>4.00</td>\n",
       "    </tr>\n",
       "    <tr>\n",
       "      <th>internet_service_type_id</th>\n",
       "      <td>7043.0</td>\n",
       "      <td>1.872923</td>\n",
       "      <td>0.737796</td>\n",
       "      <td>1.00</td>\n",
       "      <td>1.00</td>\n",
       "      <td>2.00</td>\n",
       "      <td>2.00</td>\n",
       "      <td>3.00</td>\n",
       "    </tr>\n",
       "    <tr>\n",
       "      <th>contract_type_id</th>\n",
       "      <td>7043.0</td>\n",
       "      <td>1.690473</td>\n",
       "      <td>0.833755</td>\n",
       "      <td>1.00</td>\n",
       "      <td>1.00</td>\n",
       "      <td>1.00</td>\n",
       "      <td>2.00</td>\n",
       "      <td>3.00</td>\n",
       "    </tr>\n",
       "    <tr>\n",
       "      <th>senior_citizen</th>\n",
       "      <td>7043.0</td>\n",
       "      <td>0.162147</td>\n",
       "      <td>0.368612</td>\n",
       "      <td>0.00</td>\n",
       "      <td>0.00</td>\n",
       "      <td>0.00</td>\n",
       "      <td>0.00</td>\n",
       "      <td>1.00</td>\n",
       "    </tr>\n",
       "    <tr>\n",
       "      <th>tenure</th>\n",
       "      <td>7043.0</td>\n",
       "      <td>32.371149</td>\n",
       "      <td>24.559481</td>\n",
       "      <td>0.00</td>\n",
       "      <td>9.00</td>\n",
       "      <td>29.00</td>\n",
       "      <td>55.00</td>\n",
       "      <td>72.00</td>\n",
       "    </tr>\n",
       "    <tr>\n",
       "      <th>monthly_charges</th>\n",
       "      <td>7043.0</td>\n",
       "      <td>64.761692</td>\n",
       "      <td>30.090047</td>\n",
       "      <td>18.25</td>\n",
       "      <td>35.50</td>\n",
       "      <td>70.35</td>\n",
       "      <td>89.85</td>\n",
       "      <td>118.75</td>\n",
       "    </tr>\n",
       "    <tr>\n",
       "      <th>total_charges</th>\n",
       "      <td>7043.0</td>\n",
       "      <td>2279.734304</td>\n",
       "      <td>2266.794470</td>\n",
       "      <td>0.00</td>\n",
       "      <td>398.55</td>\n",
       "      <td>1394.55</td>\n",
       "      <td>3786.60</td>\n",
       "      <td>8684.80</td>\n",
       "    </tr>\n",
       "  </tbody>\n",
       "</table>\n",
       "</div>"
      ],
      "text/plain": [
       "                           count         mean          std    min     25%  \\\n",
       "payment_type_id           7043.0     2.315633     1.148907   1.00    1.00   \n",
       "internet_service_type_id  7043.0     1.872923     0.737796   1.00    1.00   \n",
       "contract_type_id          7043.0     1.690473     0.833755   1.00    1.00   \n",
       "senior_citizen            7043.0     0.162147     0.368612   0.00    0.00   \n",
       "tenure                    7043.0    32.371149    24.559481   0.00    9.00   \n",
       "monthly_charges           7043.0    64.761692    30.090047  18.25   35.50   \n",
       "total_charges             7043.0  2279.734304  2266.794470   0.00  398.55   \n",
       "\n",
       "                              50%      75%      max  \n",
       "payment_type_id              2.00     3.00     4.00  \n",
       "internet_service_type_id     2.00     2.00     3.00  \n",
       "contract_type_id             1.00     2.00     3.00  \n",
       "senior_citizen               0.00     0.00     1.00  \n",
       "tenure                      29.00    55.00    72.00  \n",
       "monthly_charges             70.35    89.85   118.75  \n",
       "total_charges             1394.55  3786.60  8684.80  "
      ]
     },
     "execution_count": 9,
     "metadata": {},
     "output_type": "execute_result"
    }
   ],
   "source": [
    "# Calculate descriptive statistics of the numeric columns in the dataframe\n",
    "df.describe().T"
   ]
  },
  {
   "cell_type": "markdown",
   "id": "2044f649",
   "metadata": {},
   "source": [
    "### Plot Distribution of Individual Variables"
   ]
  },
  {
   "cell_type": "code",
   "execution_count": 10,
   "id": "eec1bde7",
   "metadata": {},
   "outputs": [
    {
     "name": "stdout",
     "output_type": "stream",
     "text": [
      "24\n",
      "<class 'pandas.core.indexes.base.Index'>\n"
     ]
    },
    {
     "data": {
      "text/plain": [
       "Index(['payment_type_id', 'internet_service_type_id', 'contract_type_id',\n",
       "       'customer_id', 'gender', 'senior_citizen', 'partner', 'dependents',\n",
       "       'tenure', 'phone_service', 'multiple_lines', 'online_security',\n",
       "       'online_backup', 'device_protection', 'tech_support', 'streaming_tv',\n",
       "       'streaming_movies', 'paperless_billing', 'monthly_charges',\n",
       "       'total_charges', 'churn', 'contract_type', 'internet_service_type',\n",
       "       'payment_type'],\n",
       "      dtype='object')"
      ]
     },
     "execution_count": 10,
     "metadata": {},
     "output_type": "execute_result"
    }
   ],
   "source": [
    "# Obtain the name of the variables\n",
    "\n",
    "variables = df.columns\n",
    "print(len(variables))\n",
    "print(type(variables))\n",
    "variables"
   ]
  },
  {
   "cell_type": "code",
   "execution_count": 11,
   "id": "131d2893",
   "metadata": {},
   "outputs": [
    {
     "name": "stdout",
     "output_type": "stream",
     "text": [
      "17\n"
     ]
    },
    {
     "data": {
      "text/plain": [
       "['gender',\n",
       " 'partner',\n",
       " 'dependents',\n",
       " 'phone_service',\n",
       " 'multiple_lines',\n",
       " 'online_security',\n",
       " 'online_backup',\n",
       " 'device_protection',\n",
       " 'tech_support',\n",
       " 'streaming_tv',\n",
       " 'streaming_movies',\n",
       " 'paperless_billing',\n",
       " 'churn',\n",
       " 'contract_type',\n",
       " 'internet_service_type',\n",
       " 'payment_type',\n",
       " 'senior_citizen']"
      ]
     },
     "execution_count": 11,
     "metadata": {},
     "output_type": "execute_result"
    }
   ],
   "source": [
    "# Obtain the name of the object columns\n",
    "\n",
    "mask = (df.dtypes == 'object')\n",
    "obj_cols = variables[mask].to_list()\n",
    "\n",
    "# Manually correct the list\n",
    "obj_cols.remove('customer_id')\n",
    "obj_cols.append('senior_citizen')\n",
    "\n",
    "print(len(obj_cols))\n",
    "obj_cols"
   ]
  },
  {
   "cell_type": "code",
   "execution_count": 12,
   "id": "70662429",
   "metadata": {},
   "outputs": [
    {
     "data": {
      "image/png": "[encoded data removed]",
      "text/plain": [
       "<Figure size 1152x2520 with 17 Axes>"
      ]
     },
     "metadata": {
      "needs_background": "light"
     },
     "output_type": "display_data"
    },
    {
     "name": "stdout",
     "output_type": "stream",
     "text": [
      "CPU times: user 1.55 s, sys: 43.8 ms, total: 1.59 s\n",
      "Wall time: 726 ms\n"
     ]
    }
   ],
   "source": [
    "%%time\n",
    "# Plot the histograms of each object column\n",
    "\n",
    "plt.figure(figsize=(16,35))\n",
    "\n",
    "number_cols = len(obj_cols)\n",
    "\n",
    "for i, variable in zip(range(number_cols), obj_cols):\n",
    "    plt.subplot(9,2,i+1)\n",
    "    df[variable].value_counts().plot(kind='barh', title=f'{variable}')\n",
    "    plt.xlabel('Counts')\n",
    "    \n",
    "plt.tight_layout()\n",
    "plt.show()"
   ]
  },
  {
   "cell_type": "code",
   "execution_count": 13,
   "id": "5d538d5f",
   "metadata": {},
   "outputs": [
    {
     "name": "stdout",
     "output_type": "stream",
     "text": [
      "3\n"
     ]
    },
    {
     "data": {
      "text/plain": [
       "['tenure', 'monthly_charges', 'total_charges']"
      ]
     },
     "execution_count": 13,
     "metadata": {},
     "output_type": "execute_result"
    }
   ],
   "source": [
    "# Obtain the name of the non-object columns\n",
    "\n",
    "mask = (df.dtypes != 'object')\n",
    "num_cols = variables[mask].to_list()\n",
    "\n",
    "# Manually correct the list\n",
    "\n",
    "num_cols.remove('payment_type_id')\n",
    "num_cols.remove('internet_service_type_id')\n",
    "num_cols.remove('contract_type_id')\n",
    "num_cols.remove('senior_citizen')\n",
    "\n",
    "print(len(num_cols))\n",
    "num_cols"
   ]
  },
  {
   "cell_type": "code",
   "execution_count": 14,
   "id": "0e2eb97e",
   "metadata": {},
   "outputs": [
    {
     "data": {
      "image/png": "[encoded data removed]",
      "text/plain": [
       "<Figure size 1152x648 with 3 Axes>"
      ]
     },
     "metadata": {
      "needs_background": "light"
     },
     "output_type": "display_data"
    },
    {
     "name": "stdout",
     "output_type": "stream",
     "text": [
      "CPU times: user 491 ms, sys: 9.13 ms, total: 500 ms\n",
      "Wall time: 187 ms\n"
     ]
    }
   ],
   "source": [
    "%%time\n",
    "# Plot the histograms of each numeric column\n",
    "\n",
    "plt.figure(figsize=(16,9))\n",
    "\n",
    "number_cols = len(num_cols)\n",
    "\n",
    "for i, variable in zip(range(number_cols), num_cols):\n",
    "    plt.subplot(2,2,i+1)\n",
    "    df[variable].plot(kind='hist', title=f'{variable}')\n",
    "    plt.ylabel(\"Counts\")\n",
    "    \n",
    "plt.tight_layout()\n",
    "plt.show()"
   ]
  },
  {
   "cell_type": "code",
   "execution_count": 15,
   "id": "e6603635",
   "metadata": {},
   "outputs": [
    {
     "data": {
      "image/png": "[encoded data removed]",
      "text/plain": [
       "<Figure size 540x540 with 12 Axes>"
      ]
     },
     "metadata": {
      "needs_background": "light"
     },
     "output_type": "display_data"
    }
   ],
   "source": [
    "# Pairplot the numeric variables\n",
    "\n",
    "sns.pairplot(df[num_cols])\n",
    "plt.show()"
   ]
  },
  {
   "cell_type": "code",
   "execution_count": 16,
   "id": "d7c11d50",
   "metadata": {},
   "outputs": [
    {
     "name": "stdout",
     "output_type": "stream",
     "text": [
      "CPU times: user 17.6 ms, sys: 2.31 ms, total: 19.9 ms\n",
      "Wall time: 26.1 ms\n"
     ]
    },
    {
     "data": {
      "text/html": [
       "<div>\n",
       "<style scoped>\n",
       "    .dataframe tbody tr th:only-of-type {\n",
       "        vertical-align: middle;\n",
       "    }\n",
       "\n",
       "    .dataframe tbody tr th {\n",
       "        vertical-align: top;\n",
       "    }\n",
       "\n",
       "    .dataframe thead th {\n",
       "        text-align: right;\n",
       "    }\n",
       "</style>\n",
       "<table border=\"1\" class=\"dataframe\">\n",
       "  <thead>\n",
       "    <tr style=\"text-align: right;\">\n",
       "      <th></th>\n",
       "      <th>customer_id</th>\n",
       "      <th>senior_citizen</th>\n",
       "      <th>tenure</th>\n",
       "      <th>phone_service</th>\n",
       "      <th>device_protection</th>\n",
       "      <th>tech_support</th>\n",
       "      <th>paperless_billing</th>\n",
       "      <th>monthly_charges</th>\n",
       "      <th>total_charges</th>\n",
       "      <th>churn</th>\n",
       "      <th>contract_type</th>\n",
       "      <th>internet_service</th>\n",
       "      <th>payment_type</th>\n",
       "      <th>partner_dependent</th>\n",
       "      <th>streaming</th>\n",
       "      <th>online_service</th>\n",
       "      <th>tenure_year</th>\n",
       "      <th>male</th>\n",
       "    </tr>\n",
       "  </thead>\n",
       "  <tbody>\n",
       "    <tr>\n",
       "      <th>5310</th>\n",
       "      <td>7503-MIOGA</td>\n",
       "      <td>1</td>\n",
       "      <td>72</td>\n",
       "      <td>1</td>\n",
       "      <td>1</td>\n",
       "      <td>1</td>\n",
       "      <td>1</td>\n",
       "      <td>89.85</td>\n",
       "      <td>6697.35</td>\n",
       "      <td>0</td>\n",
       "      <td>2</td>\n",
       "      <td>1</td>\n",
       "      <td>1</td>\n",
       "      <td>1</td>\n",
       "      <td>1</td>\n",
       "      <td>1</td>\n",
       "      <td>6.0</td>\n",
       "      <td>0</td>\n",
       "    </tr>\n",
       "    <tr>\n",
       "      <th>3790</th>\n",
       "      <td>5329-KRDTM</td>\n",
       "      <td>1</td>\n",
       "      <td>72</td>\n",
       "      <td>1</td>\n",
       "      <td>1</td>\n",
       "      <td>1</td>\n",
       "      <td>0</td>\n",
       "      <td>77.35</td>\n",
       "      <td>5396.25</td>\n",
       "      <td>0</td>\n",
       "      <td>2</td>\n",
       "      <td>1</td>\n",
       "      <td>1</td>\n",
       "      <td>1</td>\n",
       "      <td>1</td>\n",
       "      <td>1</td>\n",
       "      <td>6.0</td>\n",
       "      <td>1</td>\n",
       "    </tr>\n",
       "    <tr>\n",
       "      <th>4398</th>\n",
       "      <td>6199-IWKGC</td>\n",
       "      <td>1</td>\n",
       "      <td>46</td>\n",
       "      <td>1</td>\n",
       "      <td>0</td>\n",
       "      <td>1</td>\n",
       "      <td>0</td>\n",
       "      <td>100.25</td>\n",
       "      <td>4753.85</td>\n",
       "      <td>0</td>\n",
       "      <td>1</td>\n",
       "      <td>1</td>\n",
       "      <td>0</td>\n",
       "      <td>1</td>\n",
       "      <td>1</td>\n",
       "      <td>0</td>\n",
       "      <td>3.8</td>\n",
       "      <td>0</td>\n",
       "    </tr>\n",
       "    <tr>\n",
       "      <th>2635</th>\n",
       "      <td>3748-FVMZZ</td>\n",
       "      <td>0</td>\n",
       "      <td>4</td>\n",
       "      <td>0</td>\n",
       "      <td>0</td>\n",
       "      <td>1</td>\n",
       "      <td>1</td>\n",
       "      <td>40.05</td>\n",
       "      <td>162.45</td>\n",
       "      <td>0</td>\n",
       "      <td>0</td>\n",
       "      <td>1</td>\n",
       "      <td>0</td>\n",
       "      <td>0</td>\n",
       "      <td>1</td>\n",
       "      <td>0</td>\n",
       "      <td>0.3</td>\n",
       "      <td>1</td>\n",
       "    </tr>\n",
       "    <tr>\n",
       "      <th>2986</th>\n",
       "      <td>4280-DLSHD</td>\n",
       "      <td>0</td>\n",
       "      <td>8</td>\n",
       "      <td>1</td>\n",
       "      <td>1</td>\n",
       "      <td>0</td>\n",
       "      <td>1</td>\n",
       "      <td>54.75</td>\n",
       "      <td>445.85</td>\n",
       "      <td>0</td>\n",
       "      <td>0</td>\n",
       "      <td>1</td>\n",
       "      <td>0</td>\n",
       "      <td>1</td>\n",
       "      <td>0</td>\n",
       "      <td>1</td>\n",
       "      <td>0.7</td>\n",
       "      <td>1</td>\n",
       "    </tr>\n",
       "  </tbody>\n",
       "</table>\n",
       "</div>"
      ],
      "text/plain": [
       "     customer_id  senior_citizen  tenure  phone_service  device_protection  \\\n",
       "5310  7503-MIOGA               1      72              1                  1   \n",
       "3790  5329-KRDTM               1      72              1                  1   \n",
       "4398  6199-IWKGC               1      46              1                  0   \n",
       "2635  3748-FVMZZ               0       4              0                  0   \n",
       "2986  4280-DLSHD               0       8              1                  1   \n",
       "\n",
       "      tech_support  paperless_billing  monthly_charges  total_charges  churn  \\\n",
       "5310             1                  1            89.85        6697.35      0   \n",
       "3790             1                  0            77.35        5396.25      0   \n",
       "4398             1                  0           100.25        4753.85      0   \n",
       "2635             1                  1            40.05         162.45      0   \n",
       "2986             0                  1            54.75         445.85      0   \n",
       "\n",
       "      contract_type  internet_service  payment_type  partner_dependent  \\\n",
       "5310              2                 1             1                  1   \n",
       "3790              2                 1             1                  1   \n",
       "4398              1                 1             0                  1   \n",
       "2635              0                 1             0                  0   \n",
       "2986              0                 1             0                  1   \n",
       "\n",
       "      streaming  online_service  tenure_year  male  \n",
       "5310          1               1          6.0     0  \n",
       "3790          1               1          6.0     1  \n",
       "4398          1               0          3.8     0  \n",
       "2635          1               0          0.3     1  \n",
       "2986          0               1          0.7     1  "
      ]
     },
     "execution_count": 16,
     "metadata": {},
     "output_type": "execute_result"
    }
   ],
   "source": [
    "%%time\n",
    "# Prepare the data for exploration and modeling\n",
    "\n",
    "train, validate, test = prepare.prep_telco_churn(df)\n",
    "train.head()"
   ]
  },
  {
   "cell_type": "code",
   "execution_count": 17,
   "id": "c89c3727",
   "metadata": {},
   "outputs": [
    {
     "name": "stdout",
     "output_type": "stream",
     "text": [
      "<class 'pandas.core.frame.DataFrame'>\n",
      "Int64Index: 3943 entries, 5310 to 6817\n",
      "Data columns (total 18 columns):\n",
      " #   Column             Non-Null Count  Dtype  \n",
      "---  ------             --------------  -----  \n",
      " 0   customer_id        3943 non-null   object \n",
      " 1   senior_citizen     3943 non-null   int64  \n",
      " 2   tenure             3943 non-null   int64  \n",
      " 3   phone_service      3943 non-null   int64  \n",
      " 4   device_protection  3943 non-null   int64  \n",
      " 5   tech_support       3943 non-null   int64  \n",
      " 6   paperless_billing  3943 non-null   int64  \n",
      " 7   monthly_charges    3943 non-null   float64\n",
      " 8   total_charges      3943 non-null   float64\n",
      " 9   churn              3943 non-null   int64  \n",
      " 10  contract_type      3943 non-null   int64  \n",
      " 11  internet_service   3943 non-null   int64  \n",
      " 12  payment_type       3943 non-null   int64  \n",
      " 13  partner_dependent  3943 non-null   int64  \n",
      " 14  streaming          3943 non-null   int64  \n",
      " 15  online_service     3943 non-null   int64  \n",
      " 16  tenure_year        3943 non-null   float64\n",
      " 17  male               3943 non-null   uint8  \n",
      "dtypes: float64(3), int64(13), object(1), uint8(1)\n",
      "memory usage: 558.3+ KB\n"
     ]
    }
   ],
   "source": [
    "# Print a concise summary of train dataset\n",
    "\n",
    "train.info()"
   ]
  },
  {
   "cell_type": "code",
   "execution_count": 18,
   "id": "e7ecc0e1",
   "metadata": {},
   "outputs": [
    {
     "data": {
      "text/plain": [
       "((3943, 18), (1691, 18), (1409, 18))"
      ]
     },
     "execution_count": 18,
     "metadata": {},
     "output_type": "execute_result"
    }
   ],
   "source": [
    "# Print the shapes of the train, validate and test\n",
    "\n",
    "train.shape, validate.shape, test.shape"
   ]
  },
  {
   "cell_type": "markdown",
   "id": "a1570a42",
   "metadata": {},
   "source": [
    "### Data Exploration Stage\n",
    "- Explore the target variable\n",
    "- What is the churn rate?\n",
    "- Conduct hypothesis tests"
   ]
  },
  {
   "cell_type": "code",
   "execution_count": 19,
   "id": "8e3ac305",
   "metadata": {},
   "outputs": [
    {
     "data": {
      "image/png": "[encoded data removed]",
      "text/plain": [
       "<Figure size 748.8x514.8 with 1 Axes>"
      ]
     },
     "metadata": {
      "needs_background": "light"
     },
     "output_type": "display_data"
    }
   ],
   "source": [
    "# Compute and visualize the overall churn rate\n",
    "\n",
    "train.churn.value_counts(normalize=True).plot.bar()\n",
    "churn_rate = train.churn.mean()\n",
    "plt.title(f\"Overall churn rate: {churn_rate: .1%}\")\n",
    "plt.xlabel('Churned')\n",
    "plt.xticks([0,1], ['No', 'Yes'], rotation=0) # Set text labels and properties\n",
    "plt.show()"
   ]
  },
  {
   "cell_type": "markdown",
   "id": "b75f28cc",
   "metadata": {},
   "source": [
    "### Is there a type of internet service that churns more than others?\n",
    "Null Hypothesis: Customers who have fiber optics churn more.\n",
    "\n",
    "Alternate Hypothesis: Customers with DSL and no internet churn more.\n",
    "\n",
    "Alpha =0.05"
   ]
  },
  {
   "cell_type": "code",
   "execution_count": 20,
   "id": "f6ae0e8e",
   "metadata": {},
   "outputs": [
    {
     "name": "stdout",
     "output_type": "stream",
     "text": [
      "Customer churn is dependent on internet_service feature.\n"
     ]
    }
   ],
   "source": [
    "# Create a list of all categorical features\n",
    "categorical_vars = ['internet_service']\n",
    "\n",
    "# For Loop through the list and perform the hypothesis test\n",
    "for feature in categorical_vars:\n",
    "    \n",
    "    # Compute the contingency(frequency) table\n",
    "    contingency_table = pd.crosstab(train.churn, train[feature])\n",
    "\n",
    "    # Print the contingency table\n",
    "#     print(contingency_table, '\\n')\n",
    "\n",
    "    # Perform chi2 test\n",
    "    chi2, p, degf, expected = stats.chi2_contingency(contingency_table)\n",
    "\n",
    "    # Decide whether to reject/accept null hypothesis\n",
    "    if p/2 < 0.25:\n",
    "#         print(f'Reject Null Hypotheis, because {p/2: .2} < 0.25')\n",
    "        print(f\"Customer churn is dependent on {feature} feature.\")\n",
    "    elif p/2 > 0.25:\n",
    "#         print(f'Accept Null Hypotheis, because {p/2: .2} > 0.25')\n",
    "        print(f\"Customer churn is independent of {feature} feature.\")"
   ]
  },
  {
   "cell_type": "code",
   "execution_count": 21,
   "id": "3a420896",
   "metadata": {},
   "outputs": [],
   "source": [
    "# Create two datasets for churned customers and retained customers respectively\n",
    "\n",
    "train_churned = train[train.churn == 1]\n",
    "train_retained = train[train.churn == 0]"
   ]
  },
  {
   "cell_type": "code",
   "execution_count": 22,
   "id": "ccbef976",
   "metadata": {},
   "outputs": [
    {
     "name": "stdout",
     "output_type": "stream",
     "text": [
      "Reject Null Hypotheis\n"
     ]
    }
   ],
   "source": [
    "# Compute the variances \n",
    "train_churned.internet_service .var(), train_retained.internet_service.var()\n",
    "\n",
    "# Perform 2 sample t-test\n",
    "t, p = stats.ttest_ind(train_churned.internet_service,\n",
    "                       train_retained.internet_service,\n",
    "                       equal_var=False)\n",
    "# print(t, p)\n",
    "\n",
    "# Decide whether to reject or accept the null hypothesis\n",
    "\n",
    "if p < 0.5:\n",
    "    print('Reject Null Hypotheis')\n",
    "else:\n",
    "    print('Accept Null Hypotheis')"
   ]
  },
  {
   "cell_type": "code",
   "execution_count": 23,
   "id": "168c0cbb",
   "metadata": {},
   "outputs": [
    {
     "data": {
      "image/png": "[encoded data removed]",
      "text/plain": [
       "<Figure size 748.8x514.8 with 2 Axes>"
      ]
     },
     "metadata": {
      "needs_background": "light"
     },
     "output_type": "display_data"
    },
    {
     "name": "stderr",
     "output_type": "stream",
     "text": [
      "No artists with labels found to put in legend.  Note that artists whose label start with an underscore are ignored when legend() is called with no argument.\n"
     ]
    },
    {
     "data": {
      "image/png": "[encoded data removed]",
      "text/plain": [
       "<Figure size 748.8x514.8 with 1 Axes>"
      ]
     },
     "metadata": {
      "needs_background": "light"
     },
     "output_type": "display_data"
    }
   ],
   "source": [
    "# Plot the distribution of the tenures in churned and retained customers\n",
    "\n",
    "plt.subplot(121)\n",
    "\n",
    "sns.distplot(train_churned.internet_service, label='churned')\n",
    "sns.distplot(train_retained.internet_service, label='retained')\n",
    "# Plot the distribution of the tenures in churned and retained customers\n",
    "\n",
    "plt.subplot(121)\n",
    "\n",
    "sns.distplot(train_churned.internet_service, label='churned')\n",
    "sns.distplot(train_retained.internet_service, label='retained')\n",
    "\n",
    "plt.legend()\n",
    "\n",
    "# Draw the box plots to show the distribution\n",
    "plt.subplot(122)\n",
    "\n",
    "sns.boxplot(data=train, x='churn', y='internet_service')\n",
    "plt.xticks([0,1], ['N','Y'])\n",
    "\n",
    "plt.show()\n",
    "plt.legend()\n",
    "\n",
    "# Draw the box plots to show the distribution\n",
    "plt.subplot(122)\n",
    "\n",
    "sns.boxplot(data=train, x='churn', y='internet_service')\n",
    "plt.xticks([0,1], ['N','Y'])\n",
    "\n",
    "plt.show()"
   ]
  },
  {
   "cell_type": "markdown",
   "id": "0906347b",
   "metadata": {},
   "source": [
    "### Modeling and Evaluation\n",
    "The algorithms to be tested will be:\n",
    "- Logistic regression\n",
    "- Decision tree\n",
    "- Random forest\n",
    "- KNN\n",
    "\n",
    "Accuracy and recall will be used as the performance metrics, especially recall, because because it is better to send a retained customer for review than it is to miss out on an actually churned customer."
   ]
  },
  {
   "cell_type": "code",
   "execution_count": 24,
   "id": "6afc0f58",
   "metadata": {},
   "outputs": [],
   "source": [
    "# Remove attributes that are either unrelated to the target variable or correlated to other attributes\n",
    "\n",
    "X_train = train.drop(columns=['customer_id','churn','male','total_charges','tenure_year', 'senior_citizen', 'device_protection'])\n",
    "X_validate = validate.drop(columns=['customer_id','churn','male', 'total_charges','tenure_year', 'senior_citizen', 'device_protection'])\n",
    "X_test = test.drop(columns=['customer_id','churn','male','total_charges','tenure_year', 'senior_citizen', 'device_protection'])\n",
    "\n",
    "# Create target variable\n",
    "\n",
    "y_train = train['churn']\n",
    "y_validate = validate['churn']\n",
    "y_test = test['churn']"
   ]
  },
  {
   "cell_type": "code",
   "execution_count": 25,
   "id": "7f014d9d",
   "metadata": {},
   "outputs": [
    {
     "data": {
      "text/html": [
       "<div>\n",
       "<style scoped>\n",
       "    .dataframe tbody tr th:only-of-type {\n",
       "        vertical-align: middle;\n",
       "    }\n",
       "\n",
       "    .dataframe tbody tr th {\n",
       "        vertical-align: top;\n",
       "    }\n",
       "\n",
       "    .dataframe thead th {\n",
       "        text-align: right;\n",
       "    }\n",
       "</style>\n",
       "<table border=\"1\" class=\"dataframe\">\n",
       "  <thead>\n",
       "    <tr style=\"text-align: right;\">\n",
       "      <th></th>\n",
       "      <th>tenure</th>\n",
       "      <th>phone_service</th>\n",
       "      <th>tech_support</th>\n",
       "      <th>paperless_billing</th>\n",
       "      <th>monthly_charges</th>\n",
       "      <th>contract_type</th>\n",
       "      <th>internet_service</th>\n",
       "      <th>payment_type</th>\n",
       "      <th>partner_dependent</th>\n",
       "      <th>streaming</th>\n",
       "      <th>online_service</th>\n",
       "    </tr>\n",
       "  </thead>\n",
       "  <tbody>\n",
       "    <tr>\n",
       "      <th>5310</th>\n",
       "      <td>72</td>\n",
       "      <td>1</td>\n",
       "      <td>1</td>\n",
       "      <td>1</td>\n",
       "      <td>89.85</td>\n",
       "      <td>2</td>\n",
       "      <td>1</td>\n",
       "      <td>1</td>\n",
       "      <td>1</td>\n",
       "      <td>1</td>\n",
       "      <td>1</td>\n",
       "    </tr>\n",
       "    <tr>\n",
       "      <th>3790</th>\n",
       "      <td>72</td>\n",
       "      <td>1</td>\n",
       "      <td>1</td>\n",
       "      <td>0</td>\n",
       "      <td>77.35</td>\n",
       "      <td>2</td>\n",
       "      <td>1</td>\n",
       "      <td>1</td>\n",
       "      <td>1</td>\n",
       "      <td>1</td>\n",
       "      <td>1</td>\n",
       "    </tr>\n",
       "    <tr>\n",
       "      <th>4398</th>\n",
       "      <td>46</td>\n",
       "      <td>1</td>\n",
       "      <td>1</td>\n",
       "      <td>0</td>\n",
       "      <td>100.25</td>\n",
       "      <td>1</td>\n",
       "      <td>1</td>\n",
       "      <td>0</td>\n",
       "      <td>1</td>\n",
       "      <td>1</td>\n",
       "      <td>0</td>\n",
       "    </tr>\n",
       "    <tr>\n",
       "      <th>2635</th>\n",
       "      <td>4</td>\n",
       "      <td>0</td>\n",
       "      <td>1</td>\n",
       "      <td>1</td>\n",
       "      <td>40.05</td>\n",
       "      <td>0</td>\n",
       "      <td>1</td>\n",
       "      <td>0</td>\n",
       "      <td>0</td>\n",
       "      <td>1</td>\n",
       "      <td>0</td>\n",
       "    </tr>\n",
       "    <tr>\n",
       "      <th>2986</th>\n",
       "      <td>8</td>\n",
       "      <td>1</td>\n",
       "      <td>0</td>\n",
       "      <td>1</td>\n",
       "      <td>54.75</td>\n",
       "      <td>0</td>\n",
       "      <td>1</td>\n",
       "      <td>0</td>\n",
       "      <td>1</td>\n",
       "      <td>0</td>\n",
       "      <td>1</td>\n",
       "    </tr>\n",
       "  </tbody>\n",
       "</table>\n",
       "</div>"
      ],
      "text/plain": [
       "      tenure  phone_service  tech_support  paperless_billing  monthly_charges  \\\n",
       "5310      72              1             1                  1            89.85   \n",
       "3790      72              1             1                  0            77.35   \n",
       "4398      46              1             1                  0           100.25   \n",
       "2635       4              0             1                  1            40.05   \n",
       "2986       8              1             0                  1            54.75   \n",
       "\n",
       "      contract_type  internet_service  payment_type  partner_dependent  \\\n",
       "5310              2                 1             1                  1   \n",
       "3790              2                 1             1                  1   \n",
       "4398              1                 1             0                  1   \n",
       "2635              0                 1             0                  0   \n",
       "2986              0                 1             0                  1   \n",
       "\n",
       "      streaming  online_service  \n",
       "5310          1               1  \n",
       "3790          1               1  \n",
       "4398          1               0  \n",
       "2635          1               0  \n",
       "2986          0               1  "
      ]
     },
     "execution_count": 25,
     "metadata": {},
     "output_type": "execute_result"
    }
   ],
   "source": [
    "# Inspect the X_train\n",
    "X_train.head()"
   ]
  },
  {
   "cell_type": "code",
   "execution_count": 26,
   "id": "5e02458d",
   "metadata": {},
   "outputs": [
    {
     "data": {
      "text/plain": [
       "Index(['tenure', 'phone_service', 'tech_support', 'paperless_billing',\n",
       "       'monthly_charges', 'contract_type', 'internet_service', 'payment_type',\n",
       "       'partner_dependent', 'streaming', 'online_service'],\n",
       "      dtype='object')"
      ]
     },
     "execution_count": 26,
     "metadata": {},
     "output_type": "execute_result"
    }
   ],
   "source": [
    "X_train.columns"
   ]
  },
  {
   "cell_type": "markdown",
   "id": "1e6d0aea",
   "metadata": {},
   "source": [
    "### Baseline Model"
   ]
  },
  {
   "cell_type": "code",
   "execution_count": 27,
   "id": "f1af71f6",
   "metadata": {},
   "outputs": [
    {
     "data": {
      "text/plain": [
       "0    0.73472\n",
       "1    0.26528\n",
       "Name: churn, dtype: float64"
      ]
     },
     "execution_count": 27,
     "metadata": {},
     "output_type": "execute_result"
    }
   ],
   "source": [
    "# Compute the accuracy of the baseline model\n",
    "y_train.value_counts(normalize=True)"
   ]
  },
  {
   "cell_type": "code",
   "execution_count": 28,
   "id": "96cdc28a",
   "metadata": {},
   "outputs": [],
   "source": [
    "#model_accuracy = (df.prediction == df.actual).mean()\n",
    "#baseline_accuracy = (df.baseline_prediction == df.actual).mean()\n",
    "\n",
    "#print(f'   model accuracy: {model_accuracy:.2%}')\n",
    "#print(f'baseline accuracy: {baseline_accuracy:.2%}')\n"
   ]
  },
  {
   "cell_type": "markdown",
   "id": "beb43ba0",
   "metadata": {},
   "source": [
    "### Logistic Regression\n",
    "\n",
    "- the goal with this model is to find values for the coefficients that weight each input variable.\n",
    "- the output is a value between 0 and 1 that represents the probability of one class over the other.\n",
    "- Much like linear regression, logistic regression works best when you remove attributes that aren't related to the output variable, or attached to other attributes."
   ]
  },
  {
   "cell_type": "code",
   "execution_count": 29,
   "id": "f9c71405",
   "metadata": {},
   "outputs": [
    {
     "data": {
      "text/plain": [
       "LogisticRegression(C=1, class_weight={0: 1, 1: 99}, random_state=123)"
      ]
     },
     "execution_count": 29,
     "metadata": {},
     "output_type": "execute_result"
    }
   ],
   "source": [
    "# Create the logistic regression object\n",
    "\n",
    "logit = LogisticRegression(C=1, class_weight={0:1, 1:99}, random_state=123, intercept_scaling=1, solver='lbfgs')\n",
    "\n",
    "\n",
    "# Fit the model to the training data\n",
    "logit.fit(X_train, y_train)\n"
   ]
  },
  {
   "cell_type": "code",
   "execution_count": 30,
   "id": "445fe4d1",
   "metadata": {},
   "outputs": [
    {
     "name": "stdout",
     "output_type": "stream",
     "text": [
      "Coefficient: \n",
      " [[-0.02619663 -1.01019378 -0.39155821  0.35348096  0.03823768 -0.90891547\n",
      "   0.12525003 -0.2291206  -0.18009441 -0.31466806 -0.4304039 ]]\n",
      "Intercept: \n",
      " [3.23948147]\n"
     ]
    }
   ],
   "source": [
    "#Evaluate importance, or weight, of each feature, using the coefficients.\n",
    "\n",
    "#Evaluate the intercept of the model.\n",
    "\n",
    "print('Coefficient: \\n', logit.coef_)\n",
    "print('Intercept: \\n', logit.intercept_)"
   ]
  },
  {
   "cell_type": "code",
   "execution_count": 31,
   "id": "4f9870f8",
   "metadata": {},
   "outputs": [],
   "source": [
    "# Estimate whether or not the species is versicolor for each observation, using the training data.\n",
    "y_pred = logit.predict(X_train)"
   ]
  },
  {
   "cell_type": "code",
   "execution_count": 32,
   "id": "c2ec73b1",
   "metadata": {},
   "outputs": [],
   "source": [
    "# Estimate the probability\n",
    "\n",
    "y_pred_proba = logit.predict_proba(X_train)\n"
   ]
  },
  {
   "cell_type": "code",
   "execution_count": 33,
   "id": "b8c0c781",
   "metadata": {},
   "outputs": [
    {
     "name": "stdout",
     "output_type": "stream",
     "text": [
      "Accuracy of Logistic Regression classifier on training set: 0.32\n"
     ]
    }
   ],
   "source": [
    "# Compute the accuracy\n",
    "print('Accuracy of Logistic Regression classifier on training set: {:.2f}'\n",
    "     .format(logit.score(X_train, y_train)))\n"
   ]
  },
  {
   "cell_type": "code",
   "execution_count": 34,
   "id": "992233c6",
   "metadata": {},
   "outputs": [
    {
     "name": "stdout",
     "output_type": "stream",
     "text": [
      "[[ 235 2662]\n",
      " [   1 1045]]\n"
     ]
    }
   ],
   "source": [
    "# Create a confusion matrix\n",
    "print(confusion_matrix(y_train, y_pred))"
   ]
  },
  {
   "cell_type": "code",
   "execution_count": 35,
   "id": "b00c3e5a",
   "metadata": {},
   "outputs": [
    {
     "name": "stdout",
     "output_type": "stream",
     "text": [
      "              precision    recall  f1-score   support\n",
      "\n",
      "           0       1.00      0.08      0.15      2897\n",
      "           1       0.28      1.00      0.44      1046\n",
      "\n",
      "    accuracy                           0.32      3943\n",
      "   macro avg       0.64      0.54      0.29      3943\n",
      "weighted avg       0.81      0.32      0.23      3943\n",
      "\n"
     ]
    }
   ],
   "source": [
    "# Create a classification Report\n",
    "print(classification_report(y_train, y_pred))\n"
   ]
  },
  {
   "cell_type": "markdown",
   "id": "90ec55b1",
   "metadata": {},
   "source": [
    "### Decision Trees\n",
    "aka CART: Classification and Regression Trees\n",
    "- We use the training data to train the tree to find a decision boundary to use as a decision rule for future data\n",
    "- Sorta like playing 20 questions. Each question is a yes or a no. The number of questions is the depth of the tree.\n",
    "- Give too much depth and you risk overfitting your model."
   ]
  },
  {
   "cell_type": "code",
   "execution_count": 36,
   "id": "fdd60d1c",
   "metadata": {},
   "outputs": [],
   "source": [
    "# Create the Deicsion Tree object\n",
    "dt = DecisionTreeClassifier(max_depth=3, random_state=123)"
   ]
  },
  {
   "cell_type": "code",
   "execution_count": 37,
   "id": "cd6df3f5",
   "metadata": {},
   "outputs": [
    {
     "data": {
      "text/plain": [
       "DecisionTreeClassifier(max_depth=3, random_state=123)"
      ]
     },
     "execution_count": 37,
     "metadata": {},
     "output_type": "execute_result"
    }
   ],
   "source": [
    "# Fit the model\n",
    "dt.fit(X_train, y_train)"
   ]
  },
  {
   "cell_type": "code",
   "execution_count": 38,
   "id": "879af1e2",
   "metadata": {},
   "outputs": [
    {
     "data": {
      "text/plain": [
       "{'ccp_alpha': 0.0,\n",
       " 'class_weight': None,\n",
       " 'criterion': 'gini',\n",
       " 'max_depth': 3,\n",
       " 'max_features': None,\n",
       " 'max_leaf_nodes': None,\n",
       " 'min_impurity_decrease': 0.0,\n",
       " 'min_samples_leaf': 1,\n",
       " 'min_samples_split': 2,\n",
       " 'min_weight_fraction_leaf': 0.0,\n",
       " 'random_state': 123,\n",
       " 'splitter': 'best'}"
      ]
     },
     "execution_count": 38,
     "metadata": {},
     "output_type": "execute_result"
    }
   ],
   "source": [
    "# Get the parameters of the model\n",
    "dt.get_params()"
   ]
  },
  {
   "cell_type": "code",
   "execution_count": 39,
   "id": "ea0bef09",
   "metadata": {},
   "outputs": [
    {
     "data": {
      "text/html": [
       "<div>\n",
       "<style scoped>\n",
       "    .dataframe tbody tr th:only-of-type {\n",
       "        vertical-align: middle;\n",
       "    }\n",
       "\n",
       "    .dataframe tbody tr th {\n",
       "        vertical-align: top;\n",
       "    }\n",
       "\n",
       "    .dataframe thead th {\n",
       "        text-align: right;\n",
       "    }\n",
       "</style>\n",
       "<table border=\"1\" class=\"dataframe\">\n",
       "  <thead>\n",
       "    <tr style=\"text-align: right;\">\n",
       "      <th></th>\n",
       "      <th>total_reduction</th>\n",
       "    </tr>\n",
       "  </thead>\n",
       "  <tbody>\n",
       "    <tr>\n",
       "      <th>tenure</th>\n",
       "      <td>0.218841</td>\n",
       "    </tr>\n",
       "    <tr>\n",
       "      <th>phone_service</th>\n",
       "      <td>0.000000</td>\n",
       "    </tr>\n",
       "    <tr>\n",
       "      <th>tech_support</th>\n",
       "      <td>0.000000</td>\n",
       "    </tr>\n",
       "    <tr>\n",
       "      <th>paperless_billing</th>\n",
       "      <td>0.000000</td>\n",
       "    </tr>\n",
       "    <tr>\n",
       "      <th>monthly_charges</th>\n",
       "      <td>0.168075</td>\n",
       "    </tr>\n",
       "    <tr>\n",
       "      <th>contract_type</th>\n",
       "      <td>0.613084</td>\n",
       "    </tr>\n",
       "    <tr>\n",
       "      <th>internet_service</th>\n",
       "      <td>0.000000</td>\n",
       "    </tr>\n",
       "    <tr>\n",
       "      <th>payment_type</th>\n",
       "      <td>0.000000</td>\n",
       "    </tr>\n",
       "    <tr>\n",
       "      <th>partner_dependent</th>\n",
       "      <td>0.000000</td>\n",
       "    </tr>\n",
       "    <tr>\n",
       "      <th>streaming</th>\n",
       "      <td>0.000000</td>\n",
       "    </tr>\n",
       "    <tr>\n",
       "      <th>online_service</th>\n",
       "      <td>0.000000</td>\n",
       "    </tr>\n",
       "  </tbody>\n",
       "</table>\n",
       "</div>"
      ],
      "text/plain": [
       "                   total_reduction\n",
       "tenure                    0.218841\n",
       "phone_service             0.000000\n",
       "tech_support              0.000000\n",
       "paperless_billing         0.000000\n",
       "monthly_charges           0.168075\n",
       "contract_type             0.613084\n",
       "internet_service          0.000000\n",
       "payment_type              0.000000\n",
       "partner_dependent         0.000000\n",
       "streaming                 0.000000\n",
       "online_service            0.000000"
      ]
     },
     "execution_count": 39,
     "metadata": {},
     "output_type": "execute_result"
    }
   ],
   "source": [
    "# Print the Gini importances\n",
    "\n",
    "importances = dt.feature_importances_\n",
    "importances = pd.DataFrame(importances, index=X_train.columns, columns=['total_reduction'])\n",
    "importances"
   ]
  },
  {
   "cell_type": "code",
   "execution_count": 40,
   "id": "114f3b2a",
   "metadata": {},
   "outputs": [
    {
     "name": "stdout",
     "output_type": "stream",
     "text": [
      "0.7851889424296221 \n",
      "\n",
      "              precision    recall  f1-score   support\n",
      "\n",
      "           0       0.80      0.94      0.87      2897\n",
      "           1       0.68      0.36      0.47      1046\n",
      "\n",
      "    accuracy                           0.79      3943\n",
      "   macro avg       0.74      0.65      0.67      3943\n",
      "weighted avg       0.77      0.79      0.76      3943\n",
      " \n",
      "\n"
     ]
    },
    {
     "data": {
      "text/plain": [
       "array([[2715,  182],\n",
       "       [ 665,  381]])"
      ]
     },
     "execution_count": 40,
     "metadata": {},
     "output_type": "execute_result"
    }
   ],
   "source": [
    "# Evaluate accuracy and recall using train dataset\n",
    "\n",
    "train_acc = dt.score(X_train, y_train)\n",
    "print(train_acc, \"\\n\")\n",
    "\n",
    "y_pred_train = dt.predict(X_train)\n",
    "print(classification_report(y_train, y_pred_train), '\\n')\n",
    "\n",
    "# Print the confusion matrix\n",
    "matrix = confusion_matrix(y_train, y_pred_train)\n",
    "matrix"
   ]
  },
  {
   "cell_type": "code",
   "execution_count": 41,
   "id": "14b231d0",
   "metadata": {},
   "outputs": [
    {
     "data": {
      "image/png": "[encoded data removed]",
      "text/plain": [
       "<Figure size 1152x648 with 1 Axes>"
      ]
     },
     "metadata": {
      "needs_background": "light"
     },
     "output_type": "display_data"
    }
   ],
   "source": [
    "# Visualize the tree structure\n",
    "\n",
    "plt.figure(figsize=(16,9))\n",
    "plot_tree(dt)\n",
    "plt.show()"
   ]
  },
  {
   "cell_type": "markdown",
   "id": "6bfe5e6e",
   "metadata": {},
   "source": [
    "### Random Forest "
   ]
  },
  {
   "cell_type": "markdown",
   "id": "f6e570ea",
   "metadata": {},
   "source": [
    "- Random Forest is a type Ensemble Machine Learning algorithm called Bootstrap Aggregation or bagging.\n",
    "- Bootstrapping is a statistical method for estimating a quantity from a data sample, e.g. mean. \n",
    "- Multiple samples of your training data are taken and models are constructed for each sample set. \n",
    "- Random forest is a tweak on this approach where decision trees are created so that rather than selecting optimal split points, suboptimal splits are made by introducing randomness.\n"
   ]
  },
  {
   "cell_type": "code",
   "execution_count": 42,
   "id": "ff818ccb",
   "metadata": {},
   "outputs": [],
   "source": [
    "# Create the random forest object\n",
    "\n",
    "rf = RandomForestClassifier(n_estimators=100, \n",
    "                            max_depth=3, \n",
    "                            min_samples_split=2, \n",
    "                            min_samples_leaf=5, \n",
    "                            random_state=123)"
   ]
  },
  {
   "cell_type": "code",
   "execution_count": 43,
   "id": "a20e1734",
   "metadata": {},
   "outputs": [
    {
     "data": {
      "text/plain": [
       "RandomForestClassifier(max_depth=3, min_samples_leaf=3, random_state=123)"
      ]
     },
     "execution_count": 43,
     "metadata": {},
     "output_type": "execute_result"
    }
   ],
   "source": [
    "# Fit the model\n",
    "rf.fit(X_train, y_train)\n",
    "\n",
    "RandomForestClassifier(max_depth=3, min_samples_leaf=3, random_state=123)"
   ]
  },
  {
   "cell_type": "code",
   "execution_count": 44,
   "id": "c482a561",
   "metadata": {},
   "outputs": [
    {
     "data": {
      "text/html": [
       "<div>\n",
       "<style scoped>\n",
       "    .dataframe tbody tr th:only-of-type {\n",
       "        vertical-align: middle;\n",
       "    }\n",
       "\n",
       "    .dataframe tbody tr th {\n",
       "        vertical-align: top;\n",
       "    }\n",
       "\n",
       "    .dataframe thead th {\n",
       "        text-align: right;\n",
       "    }\n",
       "</style>\n",
       "<table border=\"1\" class=\"dataframe\">\n",
       "  <thead>\n",
       "    <tr style=\"text-align: right;\">\n",
       "      <th></th>\n",
       "      <th>total_reduction</th>\n",
       "    </tr>\n",
       "  </thead>\n",
       "  <tbody>\n",
       "    <tr>\n",
       "      <th>tenure</th>\n",
       "      <td>0.272495</td>\n",
       "    </tr>\n",
       "    <tr>\n",
       "      <th>phone_service</th>\n",
       "      <td>0.002477</td>\n",
       "    </tr>\n",
       "    <tr>\n",
       "      <th>tech_support</th>\n",
       "      <td>0.034285</td>\n",
       "    </tr>\n",
       "    <tr>\n",
       "      <th>paperless_billing</th>\n",
       "      <td>0.032897</td>\n",
       "    </tr>\n",
       "    <tr>\n",
       "      <th>monthly_charges</th>\n",
       "      <td>0.116829</td>\n",
       "    </tr>\n",
       "    <tr>\n",
       "      <th>contract_type</th>\n",
       "      <td>0.328299</td>\n",
       "    </tr>\n",
       "    <tr>\n",
       "      <th>internet_service</th>\n",
       "      <td>0.090099</td>\n",
       "    </tr>\n",
       "    <tr>\n",
       "      <th>payment_type</th>\n",
       "      <td>0.066631</td>\n",
       "    </tr>\n",
       "    <tr>\n",
       "      <th>partner_dependent</th>\n",
       "      <td>0.015482</td>\n",
       "    </tr>\n",
       "    <tr>\n",
       "      <th>streaming</th>\n",
       "      <td>0.008633</td>\n",
       "    </tr>\n",
       "    <tr>\n",
       "      <th>online_service</th>\n",
       "      <td>0.031873</td>\n",
       "    </tr>\n",
       "  </tbody>\n",
       "</table>\n",
       "</div>"
      ],
      "text/plain": [
       "                   total_reduction\n",
       "tenure                    0.272495\n",
       "phone_service             0.002477\n",
       "tech_support              0.034285\n",
       "paperless_billing         0.032897\n",
       "monthly_charges           0.116829\n",
       "contract_type             0.328299\n",
       "internet_service          0.090099\n",
       "payment_type              0.066631\n",
       "partner_dependent         0.015482\n",
       "streaming                 0.008633\n",
       "online_service            0.031873"
      ]
     },
     "execution_count": 44,
     "metadata": {},
     "output_type": "execute_result"
    }
   ],
   "source": [
    "# Evaluate importance\n",
    "\n",
    "importances = rf.feature_importances_\n",
    "importances = pd.DataFrame(importances, index=X_train.columns, columns=['total_reduction'])\n",
    "importances"
   ]
  },
  {
   "cell_type": "code",
   "execution_count": 45,
   "id": "354a136a",
   "metadata": {},
   "outputs": [],
   "source": [
    "# Make predictions\n",
    "\n",
    "y_pred = rf.predict(X_train)"
   ]
  },
  {
   "cell_type": "code",
   "execution_count": 46,
   "id": "ed6c05fd",
   "metadata": {},
   "outputs": [],
   "source": [
    "# Estimate Probability\n",
    "\n",
    "y_pred_proba = rf.predict_proba(X_train)"
   ]
  },
  {
   "cell_type": "code",
   "execution_count": 47,
   "id": "ccb4d2ee",
   "metadata": {},
   "outputs": [
    {
     "name": "stdout",
     "output_type": "stream",
     "text": [
      "Accuracy of random forest classifier on training set: 0.78\n"
     ]
    }
   ],
   "source": [
    "# Compute the Accuracy\n",
    "\n",
    "print('Accuracy of random forest classifier on training set: {:.2f}'\n",
    "     .format(rf.score(X_train, y_train)))"
   ]
  },
  {
   "cell_type": "code",
   "execution_count": 48,
   "id": "41170363",
   "metadata": {},
   "outputs": [
    {
     "name": "stdout",
     "output_type": "stream",
     "text": [
      "              precision    recall  f1-score   support\n",
      "\n",
      "           0       0.79      0.96      0.87      2897\n",
      "           1       0.73      0.29      0.42      1046\n",
      "\n",
      "    accuracy                           0.78      3943\n",
      "   macro avg       0.76      0.63      0.64      3943\n",
      "weighted avg       0.78      0.78      0.75      3943\n",
      "\n"
     ]
    }
   ],
   "source": [
    "# Create a classfication report\n",
    "\n",
    "print(classification_report(y_train, y_pred))"
   ]
  },
  {
   "cell_type": "code",
   "execution_count": 49,
   "id": "eae060df",
   "metadata": {},
   "outputs": [
    {
     "name": "stdout",
     "output_type": "stream",
     "text": [
      "[[2785  112]\n",
      " [ 738  308]]\n"
     ]
    }
   ],
   "source": [
    "# Create a confusion matrix\n",
    "\n",
    "print(confusion_matrix(y_train, y_pred))"
   ]
  },
  {
   "cell_type": "code",
   "execution_count": 50,
   "id": "e2c605c7",
   "metadata": {},
   "outputs": [
    {
     "name": "stdout",
     "output_type": "stream",
     "text": [
      "Accuracy of random forest classifier on test set: 0.78\n"
     ]
    }
   ],
   "source": [
    "# Evaluate on Out-of-Sample data\n",
    "\n",
    "print('Accuracy of random forest classifier on test set: {:.2f}'\n",
    "     .format(rf.score(X_validate, y_validate)))"
   ]
  },
  {
   "cell_type": "markdown",
   "id": "49734209",
   "metadata": {},
   "source": [
    "### KNN"
   ]
  },
  {
   "cell_type": "markdown",
   "id": "20511675",
   "metadata": {},
   "source": [
    "- Makes predictions based on how close a new data point is to known data points.\n",
    "- Considered a lazy algorithm in that it does not attempt to construct a general internal model, but simply stores instances of the training data.\n",
    "- Predictions are made for a new data point by searching through the entire training set for the K most similar instances (the neighbors) and summarizing the output variable for those K instances.\n",
    "- For classification problems this might be the mode (or most common) class value."
   ]
  },
  {
   "cell_type": "code",
   "execution_count": 51,
   "id": "31d46974",
   "metadata": {},
   "outputs": [],
   "source": [
    "# Create KNN Object\n",
    "\n",
    "# weights = ['uniform', 'density']\n",
    "knn = KNeighborsClassifier(n_neighbors=5, weights='uniform')"
   ]
  },
  {
   "cell_type": "code",
   "execution_count": 52,
   "id": "b6bb6256",
   "metadata": {},
   "outputs": [
    {
     "data": {
      "text/plain": [
       "KNeighborsClassifier()"
      ]
     },
     "execution_count": 52,
     "metadata": {},
     "output_type": "execute_result"
    }
   ],
   "source": [
    "# Fit the model\n",
    "\n",
    "knn.fit(X_train, y_train)"
   ]
  },
  {
   "cell_type": "code",
   "execution_count": 53,
   "id": "d70d7105",
   "metadata": {},
   "outputs": [],
   "source": [
    "# Make predictions\n",
    "\n",
    "y_pred = knn.predict(X_train)"
   ]
  },
  {
   "cell_type": "code",
   "execution_count": 54,
   "id": "2b584fd7",
   "metadata": {},
   "outputs": [],
   "source": [
    "# Estimate probability\n",
    "\n",
    "y_pred_proba = knn.predict_proba(X_train)"
   ]
  },
  {
   "cell_type": "code",
   "execution_count": 55,
   "id": "70c82a95",
   "metadata": {},
   "outputs": [
    {
     "name": "stdout",
     "output_type": "stream",
     "text": [
      "Accuracy of KNN classifier on training set: 0.83\n"
     ]
    }
   ],
   "source": [
    "# Compute accuracy of model\n",
    "\n",
    "print('Accuracy of KNN classifier on training set: {:.2f}'\n",
    "     .format(knn.score(X_train, y_train)))"
   ]
  },
  {
   "cell_type": "code",
   "execution_count": 56,
   "id": "f71ca99c",
   "metadata": {},
   "outputs": [
    {
     "name": "stdout",
     "output_type": "stream",
     "text": [
      "[[2650  247]\n",
      " [ 413  633]]\n"
     ]
    }
   ],
   "source": [
    "# Create a confusion matrix\n",
    "\n",
    "print(confusion_matrix(y_train, y_pred))"
   ]
  },
  {
   "cell_type": "code",
   "execution_count": 57,
   "id": "d90cf8bc",
   "metadata": {},
   "outputs": [
    {
     "name": "stdout",
     "output_type": "stream",
     "text": [
      "              precision    recall  f1-score   support\n",
      "\n",
      "           0       0.87      0.91      0.89      2897\n",
      "           1       0.72      0.61      0.66      1046\n",
      "\n",
      "    accuracy                           0.83      3943\n",
      "   macro avg       0.79      0.76      0.77      3943\n",
      "weighted avg       0.83      0.83      0.83      3943\n",
      "\n"
     ]
    }
   ],
   "source": [
    "# Create a classification report\n",
    "\n",
    "print(classification_report(y_train, y_pred))\n"
   ]
  },
  {
   "cell_type": "code",
   "execution_count": 58,
   "id": "a296e0e6",
   "metadata": {},
   "outputs": [
    {
     "name": "stdout",
     "output_type": "stream",
     "text": [
      "Accuracy of KNN classifier on test set: 0.76\n"
     ]
    }
   ],
   "source": [
    "# Lets validate our model \n",
    "\n",
    "print('Accuracy of KNN classifier on test set: {:.2f}'\n",
    "     .format(knn.score(X_validate, y_validate)))"
   ]
  },
  {
   "cell_type": "code",
   "execution_count": 59,
   "id": "719cfb69",
   "metadata": {},
   "outputs": [
    {
     "data": {
      "image/png": "[encoded data removed]",
      "text/plain": [
       "<Figure size 748.8x514.8 with 1 Axes>"
      ]
     },
     "metadata": {
      "needs_background": "light"
     },
     "output_type": "display_data"
    }
   ],
   "source": [
    "# Visualize model\n",
    "\n",
    "import matplotlib.pyplot as plt\n",
    "k_range = range(1, 20)\n",
    "scores = []\n",
    "for k in k_range:\n",
    "    knn = KNeighborsClassifier(n_neighbors = k)\n",
    "    knn.fit(X_train, y_train)\n",
    "    scores.append(knn.score(X_test, y_test))\n",
    "plt.figure()\n",
    "plt.xlabel('k')\n",
    "plt.ylabel('accuracy')\n",
    "plt.scatter(k_range, scores)\n",
    "plt.xticks([0,5,10,15,20])\n",
    "plt.show()"
   ]
  },
  {
   "cell_type": "code",
   "execution_count": 60,
   "id": "9b46e39a",
   "metadata": {},
   "outputs": [
    {
     "data": {
      "text/html": [
       "<div>\n",
       "<style scoped>\n",
       "    .dataframe tbody tr th:only-of-type {\n",
       "        vertical-align: middle;\n",
       "    }\n",
       "\n",
       "    .dataframe tbody tr th {\n",
       "        vertical-align: top;\n",
       "    }\n",
       "\n",
       "    .dataframe thead th {\n",
       "        text-align: right;\n",
       "    }\n",
       "</style>\n",
       "<table border=\"1\" class=\"dataframe\">\n",
       "  <thead>\n",
       "    <tr style=\"text-align: right;\">\n",
       "      <th></th>\n",
       "      <th>model</th>\n",
       "      <th>train_acc</th>\n",
       "      <th>train_recall</th>\n",
       "      <th>validate_acc</th>\n",
       "      <th>validate_recall</th>\n",
       "    </tr>\n",
       "  </thead>\n",
       "  <tbody>\n",
       "    <tr>\n",
       "      <th>0</th>\n",
       "      <td>LogisticRegression</td>\n",
       "      <td>0.801167</td>\n",
       "      <td>0.526769</td>\n",
       "      <td>0.796570</td>\n",
       "      <td>0.512249</td>\n",
       "    </tr>\n",
       "    <tr>\n",
       "      <th>1</th>\n",
       "      <td>Decision Tree</td>\n",
       "      <td>0.785189</td>\n",
       "      <td>0.364245</td>\n",
       "      <td>0.785334</td>\n",
       "      <td>0.367483</td>\n",
       "    </tr>\n",
       "    <tr>\n",
       "      <th>2</th>\n",
       "      <td>Random Forest</td>\n",
       "      <td>0.784428</td>\n",
       "      <td>0.294455</td>\n",
       "      <td>0.777646</td>\n",
       "      <td>0.278396</td>\n",
       "    </tr>\n",
       "    <tr>\n",
       "      <th>3</th>\n",
       "      <td>K-Nearest Neighbors</td>\n",
       "      <td>0.832615</td>\n",
       "      <td>0.605163</td>\n",
       "      <td>0.761088</td>\n",
       "      <td>0.476615</td>\n",
       "    </tr>\n",
       "  </tbody>\n",
       "</table>\n",
       "</div>"
      ],
      "text/plain": [
       "                 model  train_acc  train_recall  validate_acc  validate_recall\n",
       "0   LogisticRegression   0.801167      0.526769      0.796570         0.512249\n",
       "1        Decision Tree   0.785189      0.364245      0.785334         0.367483\n",
       "2        Random Forest   0.784428      0.294455      0.777646         0.278396\n",
       "3  K-Nearest Neighbors   0.832615      0.605163      0.761088         0.476615"
      ]
     },
     "execution_count": 60,
     "metadata": {},
     "output_type": "execute_result"
    }
   ],
   "source": [
    "# Summary\n",
    "\n",
    "# Create a list of names of the classifiers\n",
    "\n",
    "names = ['LogisticRegression', \n",
    "         'Decision Tree',\n",
    "         'Random Forest',\n",
    "         'K-Nearest Neighbors'\n",
    "        ]\n",
    "\n",
    "# Create a list of classifiers\n",
    "\n",
    "classifiers = [LogisticRegression(), \n",
    "               DecisionTreeClassifier(max_depth=3, random_state=123),\n",
    "               RandomForestClassifier(max_depth=3, random_state=123),\n",
    "               KNeighborsClassifier(5)\n",
    "              ]\n",
    "\n",
    "# Create a dataframe to hold the results\n",
    "performance = pd.DataFrame()\n",
    "\n",
    "for name, classifier in zip(names, classifiers):\n",
    "    \n",
    "    clf = classifier.fit(X_train, y_train)\n",
    "    \n",
    "    y_pred_train = clf.predict(X_train)\n",
    "    train_acc = accuracy_score(y_train, y_pred_train)\n",
    "    train_recall = recall_score(y_train, y_pred_train)\n",
    "    \n",
    "    y_pred_validate = clf.predict(X_validate)\n",
    "    validate_acc = accuracy_score(y_validate, y_pred_validate)\n",
    "    validate_recall = recall_score(y_validate, y_pred_validate)\n",
    "    \n",
    "    d = {'model': name,\n",
    "         'train_acc': train_acc, 'train_recall': train_recall,\n",
    "         'validate_acc': validate_acc, 'validate_recall': validate_recall}\n",
    "    \n",
    "    performance = performance.append(d, ignore_index=True)\n",
    "    \n",
    "performance"
   ]
  },
  {
   "cell_type": "markdown",
   "id": "71f9f1d2",
   "metadata": {},
   "source": [
    "### Takeaways\n",
    "\n",
    "- Logistic Regression is selected to be the best model for further testing because both its accuracy and recall rank high and it doesn't appear to have an overfitting problem.\n",
    "- The recalls of decision tree and random forest aren't good.\n",
    "- KNN is not selected due to overfitting."
   ]
  },
  {
   "cell_type": "code",
   "execution_count": 63,
   "id": "73f4e831",
   "metadata": {},
   "outputs": [
    {
     "name": "stdout",
     "output_type": "stream",
     "text": [
      "0.32647267565649396 \n",
      "\n",
      "              precision    recall  f1-score   support\n",
      "\n",
      "           0       0.98      0.09      0.16      1035\n",
      "           1       0.28      0.99      0.44       374\n",
      "\n",
      "    accuracy                           0.33      1409\n",
      "   macro avg       0.63      0.54      0.30      1409\n",
      "weighted avg       0.79      0.33      0.23      1409\n",
      " \n",
      "\n"
     ]
    },
    {
     "data": {
      "text/plain": [
       "array([[ 88, 947],\n",
       "       [  2, 372]])"
      ]
     },
     "execution_count": 63,
     "metadata": {},
     "output_type": "execute_result"
    }
   ],
   "source": [
    "\n",
    "# Evaluate accuracy and recall using validate dataset\n",
    "\n",
    "test_acc = logit.score(X_test, y_test)\n",
    "print(test_acc, \"\\n\")\n",
    "\n",
    "y_pred_test = logit.predict(X_test)\n",
    "print(classification_report(y_test, y_pred_test), '\\n')\n",
    "\n",
    "# Print the confusion matrix\n",
    "matrix = confusion_matrix(y_test, y_pred_test)\n",
    "\n",
    "matrix\n",
    "\n"
   ]
  },
  {
   "cell_type": "code",
   "execution_count": null,
   "id": "9f053570",
   "metadata": {},
   "outputs": [],
   "source": []
  },
  {
   "cell_type": "code",
   "execution_count": null,
   "id": "2f42e32f",
   "metadata": {},
   "outputs": [],
   "source": []
  },
  {
   "cell_type": "code",
   "execution_count": null,
   "id": "0fbb3936",
   "metadata": {},
   "outputs": [],
   "source": []
  },
  {
   "cell_type": "code",
   "execution_count": null,
   "id": "ddaaee8d",
   "metadata": {},
   "outputs": [],
   "source": []
  },
  {
   "cell_type": "code",
   "execution_count": null,
   "id": "09e3c825",
   "metadata": {},
   "outputs": [],
   "source": []
  },
  {
   "cell_type": "code",
   "execution_count": null,
   "id": "a64283e9",
   "metadata": {},
   "outputs": [],
   "source": []
  },
  {
   "cell_type": "code",
   "execution_count": null,
   "id": "a65ac14d",
   "metadata": {},
   "outputs": [],
   "source": []
  },
  {
   "cell_type": "code",
   "execution_count": null,
   "id": "9df2e6e4",
   "metadata": {},
   "outputs": [],
   "source": []
  },
  {
   "cell_type": "code",
   "execution_count": null,
   "id": "84671674",
   "metadata": {},
   "outputs": [],
   "source": []
  },
  {
   "cell_type": "code",
   "execution_count": null,
   "id": "0ab916ab",
   "metadata": {},
   "outputs": [],
   "source": []
  },
  {
   "cell_type": "code",
   "execution_count": null,
   "id": "abbece60",
   "metadata": {},
   "outputs": [],
   "source": []
  },
  {
   "cell_type": "code",
   "execution_count": null,
   "id": "76ffdeae",
   "metadata": {},
   "outputs": [],
   "source": []
  },
  {
   "cell_type": "code",
   "execution_count": null,
   "id": "a0ae51ee",
   "metadata": {},
   "outputs": [],
   "source": []
  },
  {
   "cell_type": "code",
   "execution_count": null,
   "id": "8e0191e6",
   "metadata": {},
   "outputs": [],
   "source": []
  },
  {
   "cell_type": "code",
   "execution_count": null,
   "id": "fbf00c37",
   "metadata": {},
   "outputs": [],
   "source": []
  }
 ],
 "metadata": {
  "kernelspec": {
   "display_name": "Python 3 (ipykernel)",
   "language": "python",
   "name": "python3"
  },
  "language_info": {
   "codemirror_mode": {
    "name": "ipython",
    "version": 3
   },
   "file_extension": ".py",
   "mimetype": "text/x-python",
   "name": "python",
   "nbconvert_exporter": "python",
   "pygments_lexer": "ipython3",
   "version": "3.9.12"
  }
 },
 "nbformat": 4,
 "nbformat_minor": 5
}
